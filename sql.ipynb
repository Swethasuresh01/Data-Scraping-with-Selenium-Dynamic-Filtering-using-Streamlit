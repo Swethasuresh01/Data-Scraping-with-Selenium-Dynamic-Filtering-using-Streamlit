{
 "cells": [
  {
   "cell_type": "code",
   "execution_count": 2,
   "id": "1850ea3c-495c-4be2-8909-b2e58aaf6323",
   "metadata": {},
   "outputs": [],
   "source": [
    "#importing libraries\n",
    "import pandas as pd\n",
    "import mysql.connector\n",
    "import numpy as np"
   ]
  },
  {
   "cell_type": "code",
   "execution_count": 4,
   "id": "865203d1-5aad-4572-a0f6-dd56b098b042",
   "metadata": {},
   "outputs": [
    {
     "data": {
      "text/html": [
       "<div>\n",
       "<style scoped>\n",
       "    .dataframe tbody tr th:only-of-type {\n",
       "        vertical-align: middle;\n",
       "    }\n",
       "\n",
       "    .dataframe tbody tr th {\n",
       "        vertical-align: top;\n",
       "    }\n",
       "\n",
       "    .dataframe thead th {\n",
       "        text-align: right;\n",
       "    }\n",
       "</style>\n",
       "<table border=\"1\" class=\"dataframe\">\n",
       "  <thead>\n",
       "    <tr style=\"text-align: right;\">\n",
       "      <th></th>\n",
       "      <th>Bus_name</th>\n",
       "      <th>Bus_type</th>\n",
       "      <th>Start_time</th>\n",
       "      <th>End_time</th>\n",
       "      <th>Total_duration</th>\n",
       "      <th>Price</th>\n",
       "      <th>Seats_Available</th>\n",
       "      <th>Ratings</th>\n",
       "      <th>Route_link</th>\n",
       "      <th>Route_name</th>\n",
       "    </tr>\n",
       "  </thead>\n",
       "  <tbody>\n",
       "    <tr>\n",
       "      <th>0</th>\n",
       "      <td>KSRTC (Kerala) - 96</td>\n",
       "      <td>Swift Deluxe Non AC Air Bus (2+2)</td>\n",
       "      <td>00:35</td>\n",
       "      <td>07:35</td>\n",
       "      <td>07h 00m</td>\n",
       "      <td>INR 567</td>\n",
       "      <td>9 Seats available</td>\n",
       "      <td>3.3\\n37</td>\n",
       "      <td>https://www.redbus.in/bus-tickets/kozhikode-to...</td>\n",
       "      <td>Kozhikode to Bangalore</td>\n",
       "    </tr>\n",
       "    <tr>\n",
       "      <th>1</th>\n",
       "      <td>KSRTC (Kerala) - 170</td>\n",
       "      <td>Swift Deluxe Non AC Air Bus (2+2)</td>\n",
       "      <td>01:25</td>\n",
       "      <td>08:35</td>\n",
       "      <td>07h 10m</td>\n",
       "      <td>INR 567</td>\n",
       "      <td>18 Seats available</td>\n",
       "      <td>2.4\\n40</td>\n",
       "      <td>https://www.redbus.in/bus-tickets/kozhikode-to...</td>\n",
       "      <td>Kozhikode to Bangalore</td>\n",
       "    </tr>\n",
       "    <tr>\n",
       "      <th>2</th>\n",
       "      <td>KSRTC (Kerala) - 1377</td>\n",
       "      <td>AC MULTI AXLE</td>\n",
       "      <td>02:20</td>\n",
       "      <td>09:55</td>\n",
       "      <td>07h 35m</td>\n",
       "      <td>INR 729</td>\n",
       "      <td>11 Seats available</td>\n",
       "      <td>2.3\\n11</td>\n",
       "      <td>https://www.redbus.in/bus-tickets/kozhikode-to...</td>\n",
       "      <td>Kozhikode to Bangalore</td>\n",
       "    </tr>\n",
       "    <tr>\n",
       "      <th>3</th>\n",
       "      <td>KSRTC (Kerala) - 368</td>\n",
       "      <td>AC MULTI AXLE</td>\n",
       "      <td>03:05</td>\n",
       "      <td>10:35</td>\n",
       "      <td>07h 30m</td>\n",
       "      <td>INR 729</td>\n",
       "      <td>4 Seats available</td>\n",
       "      <td>2.1\\n29</td>\n",
       "      <td>https://www.redbus.in/bus-tickets/kozhikode-to...</td>\n",
       "      <td>Kozhikode to Bangalore</td>\n",
       "    </tr>\n",
       "    <tr>\n",
       "      <th>4</th>\n",
       "      <td>KSRTC (Kerala) - 788</td>\n",
       "      <td>Super Fast Non AC Seater (2+3)</td>\n",
       "      <td>07:00</td>\n",
       "      <td>15:20</td>\n",
       "      <td>08h 20m</td>\n",
       "      <td>INR 432</td>\n",
       "      <td>35 Seats available</td>\n",
       "      <td>4.2\\n36</td>\n",
       "      <td>https://www.redbus.in/bus-tickets/kozhikode-to...</td>\n",
       "      <td>Kozhikode to Bangalore</td>\n",
       "    </tr>\n",
       "    <tr>\n",
       "      <th>...</th>\n",
       "      <td>...</td>\n",
       "      <td>...</td>\n",
       "      <td>...</td>\n",
       "      <td>...</td>\n",
       "      <td>...</td>\n",
       "      <td>...</td>\n",
       "      <td>...</td>\n",
       "      <td>...</td>\n",
       "      <td>...</td>\n",
       "      <td>...</td>\n",
       "    </tr>\n",
       "    <tr>\n",
       "      <th>4679</th>\n",
       "      <td>Chartered Bus - ASTC</td>\n",
       "      <td>Volvo AC Seater Pushback 2+2</td>\n",
       "      <td>12:30</td>\n",
       "      <td>17:15</td>\n",
       "      <td>04h 45m</td>\n",
       "      <td>INR 755.58</td>\n",
       "      <td>6 Seats available</td>\n",
       "      <td>4.8\\n13</td>\n",
       "      <td>https://www.redbus.in/bus-tickets/bokakhat-to-...</td>\n",
       "      <td>Bokakhat to Dibrugarh</td>\n",
       "    </tr>\n",
       "    <tr>\n",
       "      <th>4680</th>\n",
       "      <td>Bashudev Transline (Under ASTC)</td>\n",
       "      <td>A/C Seater (2+1)</td>\n",
       "      <td>12:35</td>\n",
       "      <td>18:00</td>\n",
       "      <td>05h 25m</td>\n",
       "      <td>INR 550</td>\n",
       "      <td>5 Seats available</td>\n",
       "      <td>3.5\\n11</td>\n",
       "      <td>https://www.redbus.in/bus-tickets/bokakhat-to-...</td>\n",
       "      <td>Bokakhat to Dibrugarh</td>\n",
       "    </tr>\n",
       "    <tr>\n",
       "      <th>4681</th>\n",
       "      <td>Purple Wings Coaches</td>\n",
       "      <td>A/C Seater / Sleeper (2+1)</td>\n",
       "      <td>00:45</td>\n",
       "      <td>05:00</td>\n",
       "      <td>04h 15m</td>\n",
       "      <td>630</td>\n",
       "      <td>44 Seats available</td>\n",
       "      <td>4.3</td>\n",
       "      <td>https://www.redbus.in/bus-tickets/bokakhat-to-...</td>\n",
       "      <td>Bokakhat to Dibrugarh</td>\n",
       "    </tr>\n",
       "    <tr>\n",
       "      <th>4682</th>\n",
       "      <td>MOON TRAVELS</td>\n",
       "      <td>AC Seater (2+2)</td>\n",
       "      <td>09:45</td>\n",
       "      <td>15:20</td>\n",
       "      <td>05h 35m</td>\n",
       "      <td>INR 550</td>\n",
       "      <td>22 Seats available</td>\n",
       "      <td>2.4\\n5</td>\n",
       "      <td>https://www.redbus.in/bus-tickets/bokakhat-to-...</td>\n",
       "      <td>Bokakhat to Dibrugarh</td>\n",
       "    </tr>\n",
       "    <tr>\n",
       "      <th>4683</th>\n",
       "      <td>Christina Travels</td>\n",
       "      <td>NON A/C Seater (2+2)</td>\n",
       "      <td>11:00</td>\n",
       "      <td>16:30</td>\n",
       "      <td>05h 30m</td>\n",
       "      <td>650</td>\n",
       "      <td>37 Seats available</td>\n",
       "      <td>2.8\\n7</td>\n",
       "      <td>https://www.redbus.in/bus-tickets/bokakhat-to-...</td>\n",
       "      <td>Bokakhat to Dibrugarh</td>\n",
       "    </tr>\n",
       "  </tbody>\n",
       "</table>\n",
       "<p>4684 rows × 10 columns</p>\n",
       "</div>"
      ],
      "text/plain": [
       "                             Bus_name                           Bus_type  \\\n",
       "0                 KSRTC (Kerala) - 96  Swift Deluxe Non AC Air Bus (2+2)   \n",
       "1                KSRTC (Kerala) - 170  Swift Deluxe Non AC Air Bus (2+2)   \n",
       "2               KSRTC (Kerala) - 1377                      AC MULTI AXLE   \n",
       "3                KSRTC (Kerala) - 368                      AC MULTI AXLE   \n",
       "4                KSRTC (Kerala) - 788     Super Fast Non AC Seater (2+3)   \n",
       "...                               ...                                ...   \n",
       "4679             Chartered Bus - ASTC       Volvo AC Seater Pushback 2+2   \n",
       "4680  Bashudev Transline (Under ASTC)                   A/C Seater (2+1)   \n",
       "4681             Purple Wings Coaches         A/C Seater / Sleeper (2+1)   \n",
       "4682                     MOON TRAVELS                    AC Seater (2+2)   \n",
       "4683                Christina Travels               NON A/C Seater (2+2)   \n",
       "\n",
       "     Start_time End_time Total_duration       Price     Seats_Available  \\\n",
       "0         00:35    07:35        07h 00m     INR 567   9 Seats available   \n",
       "1         01:25    08:35        07h 10m     INR 567  18 Seats available   \n",
       "2         02:20    09:55        07h 35m     INR 729  11 Seats available   \n",
       "3         03:05    10:35        07h 30m     INR 729   4 Seats available   \n",
       "4         07:00    15:20        08h 20m     INR 432  35 Seats available   \n",
       "...         ...      ...            ...         ...                 ...   \n",
       "4679      12:30    17:15        04h 45m  INR 755.58   6 Seats available   \n",
       "4680      12:35    18:00        05h 25m     INR 550   5 Seats available   \n",
       "4681      00:45    05:00        04h 15m         630  44 Seats available   \n",
       "4682      09:45    15:20        05h 35m     INR 550  22 Seats available   \n",
       "4683      11:00    16:30        05h 30m         650  37 Seats available   \n",
       "\n",
       "      Ratings                                         Route_link  \\\n",
       "0     3.3\\n37  https://www.redbus.in/bus-tickets/kozhikode-to...   \n",
       "1     2.4\\n40  https://www.redbus.in/bus-tickets/kozhikode-to...   \n",
       "2     2.3\\n11  https://www.redbus.in/bus-tickets/kozhikode-to...   \n",
       "3     2.1\\n29  https://www.redbus.in/bus-tickets/kozhikode-to...   \n",
       "4     4.2\\n36  https://www.redbus.in/bus-tickets/kozhikode-to...   \n",
       "...       ...                                                ...   \n",
       "4679  4.8\\n13  https://www.redbus.in/bus-tickets/bokakhat-to-...   \n",
       "4680  3.5\\n11  https://www.redbus.in/bus-tickets/bokakhat-to-...   \n",
       "4681      4.3  https://www.redbus.in/bus-tickets/bokakhat-to-...   \n",
       "4682   2.4\\n5  https://www.redbus.in/bus-tickets/bokakhat-to-...   \n",
       "4683   2.8\\n7  https://www.redbus.in/bus-tickets/bokakhat-to-...   \n",
       "\n",
       "                  Route_name  \n",
       "0     Kozhikode to Bangalore  \n",
       "1     Kozhikode to Bangalore  \n",
       "2     Kozhikode to Bangalore  \n",
       "3     Kozhikode to Bangalore  \n",
       "4     Kozhikode to Bangalore  \n",
       "...                      ...  \n",
       "4679   Bokakhat to Dibrugarh  \n",
       "4680   Bokakhat to Dibrugarh  \n",
       "4681   Bokakhat to Dibrugarh  \n",
       "4682   Bokakhat to Dibrugarh  \n",
       "4683   Bokakhat to Dibrugarh  \n",
       "\n",
       "[4684 rows x 10 columns]"
      ]
     },
     "execution_count": 4,
     "metadata": {},
     "output_type": "execute_result"
    }
   ],
   "source": [
    "# csv to dataframe\n",
    "df_buses_1=pd.read_csv(\"df_buses_1.csv\")\n",
    "df_buses_2=pd.read_csv(\"df_buses_2.csv\")\n",
    "df_buses_3=pd.read_csv(\"df_buses_3.csv\")\n",
    "df_buses_4=pd.read_csv(\"df_buses_4.csv\")\n",
    "df_buses_5=pd.read_csv(\"df_buses_5.csv\")\n",
    "df_buses_6=pd.read_csv(\"df_buses_6.csv\")\n",
    "df_buses_7=pd.read_csv(\"df_buses_7.csv\")\n",
    "df_buses_8=pd.read_csv(\"df_buses_8.csv\")\n",
    "df_buses_9=pd.read_csv(\"df_buses_9.csv\")\n",
    "df_buses_10=pd.read_csv(\"df_buses_10.csv\")\n",
    "df_buses_11=pd.read_csv(\"df_buses_11.csv\")\n",
    "\n",
    "Final_df=pd.concat([df_buses_1,df_buses_2,df_buses_3,df_buses_4,df_buses_5,df_buses_6,\n",
    "                    df_buses_7,df_buses_8,df_buses_9,df_buses_10, df_buses_11],ignore_index=True)\n",
    "Final_df"
   ]
  },
  {
   "cell_type": "markdown",
   "id": "6c3a3424-1398-4989-a1a7-5729b38bf248",
   "metadata": {},
   "source": [
    "## Data cleaning"
   ]
  },
  {
   "cell_type": "code",
   "execution_count": 5,
   "id": "5f165538-1601-48db-bd94-fff5cc82fb85",
   "metadata": {},
   "outputs": [
    {
     "name": "stdout",
     "output_type": "stream",
     "text": [
      "<class 'pandas.core.frame.DataFrame'>\n",
      "RangeIndex: 4684 entries, 0 to 4683\n",
      "Data columns (total 10 columns):\n",
      " #   Column           Non-Null Count  Dtype \n",
      "---  ------           --------------  ----- \n",
      " 0   Bus_name         4680 non-null   object\n",
      " 1   Bus_type         4680 non-null   object\n",
      " 2   Start_time       4680 non-null   object\n",
      " 3   End_time         4680 non-null   object\n",
      " 4   Total_duration   4680 non-null   object\n",
      " 5   Price            4680 non-null   object\n",
      " 6   Seats_Available  4680 non-null   object\n",
      " 7   Ratings          4680 non-null   object\n",
      " 8   Route_link       4684 non-null   object\n",
      " 9   Route_name       4684 non-null   object\n",
      "dtypes: object(10)\n",
      "memory usage: 366.1+ KB\n"
     ]
    }
   ],
   "source": [
    "# data about the data\n",
    "Final_df.info()"
   ]
  },
  {
   "cell_type": "code",
   "execution_count": 6,
   "id": "4a817672-2e85-489d-b793-4ad13e9ce656",
   "metadata": {},
   "outputs": [
    {
     "data": {
      "text/plain": [
       "0       567.00\n",
       "1       567.00\n",
       "2       729.00\n",
       "3       729.00\n",
       "4       432.00\n",
       "         ...  \n",
       "4679    755.58\n",
       "4680    550.00\n",
       "4681    630.00\n",
       "4682    550.00\n",
       "4683    650.00\n",
       "Name: Price, Length: 4684, dtype: float64"
      ]
     },
     "execution_count": 6,
     "metadata": {},
     "output_type": "execute_result"
    }
   ],
   "source": [
    "#convert prices to numeric\n",
    "Final_df[\"Price\"]=Final_df[\"Price\"].str.replace(\"INR\",\"\")\n",
    "Final_df[\"Price\"]=Final_df[\"Price\"].astype(float)\n",
    "Final_df[\"Price\"].fillna(0) "
   ]
  },
  {
   "cell_type": "code",
   "execution_count": 7,
   "id": "a2c8dd63-8026-4abf-ad8f-0274e6b044df",
   "metadata": {},
   "outputs": [],
   "source": [
    "# Ensure all values in Ratings are strings to use string operations\n",
    "Final_df[\"Ratings\"] = Final_df[\"Ratings\"].astype(str)\n",
    "\n",
    "# Clean and convert Ratings to numeric\n",
    "Final_df[\"Ratings\"] = Final_df[\"Ratings\"].str.replace(\"New\", \"\", regex=False)\n",
    "Final_df[\"Ratings\"] = Final_df[\"Ratings\"].str.strip()\n",
    "Final_df[\"Ratings\"] = Final_df[\"Ratings\"].str.split().str[0]\n",
    "Final_df[\"Ratings\"] = pd.to_numeric(Final_df[\"Ratings\"], errors='coerce')\n",
    "\n",
    "# Avoid chained assignment by assigning the result directly\n",
    "Final_df[\"Ratings\"] = Final_df[\"Ratings\"].fillna(0)\n"
   ]
  },
  {
   "cell_type": "code",
   "execution_count": 8,
   "id": "3655964c-aa20-43ec-9c33-911e7882afd4",
   "metadata": {},
   "outputs": [
    {
     "name": "stdout",
     "output_type": "stream",
     "text": [
      "<class 'pandas.core.frame.DataFrame'>\n",
      "RangeIndex: 4684 entries, 0 to 4683\n",
      "Data columns (total 10 columns):\n",
      " #   Column           Non-Null Count  Dtype  \n",
      "---  ------           --------------  -----  \n",
      " 0   Bus_name         4680 non-null   object \n",
      " 1   Bus_type         4680 non-null   object \n",
      " 2   Start_time       4680 non-null   object \n",
      " 3   End_time         4680 non-null   object \n",
      " 4   Total_duration   4680 non-null   object \n",
      " 5   Price            4680 non-null   float64\n",
      " 6   Seats_Available  4680 non-null   object \n",
      " 7   Ratings          4684 non-null   float64\n",
      " 8   Route_link       4684 non-null   object \n",
      " 9   Route_name       4684 non-null   object \n",
      "dtypes: float64(2), object(8)\n",
      "memory usage: 366.1+ KB\n"
     ]
    }
   ],
   "source": [
    "# info after the data type change\n",
    "Final_df.info()"
   ]
  },
  {
   "cell_type": "code",
   "execution_count": 9,
   "id": "142e75eb-a3e3-4a49-a827-56c3bc5e31c0",
   "metadata": {},
   "outputs": [],
   "source": [
    "Final_df = Final_df[Final_df[\"Price\"] <= 7000]"
   ]
  },
  {
   "cell_type": "code",
   "execution_count": 11,
   "id": "ab9650e6-1d18-4733-9d51-14887e06775a",
   "metadata": {},
   "outputs": [],
   "source": [
    "# replacing the nan value\n",
    "Final_df = Final_df.replace({np.nan: None})"
   ]
  },
  {
   "cell_type": "code",
   "execution_count": 13,
   "id": "21c25fa2-78aa-4613-a8ac-a4e7b3b47ce0",
   "metadata": {},
   "outputs": [],
   "source": [
    "# change dataframe to csv\n",
    "path=r\"E:\\Redbus_Project1\\Final_busdetails_df.csv\"\n",
    "Final_df.to_csv(path,index=False)"
   ]
  },
  {
   "cell_type": "markdown",
   "id": "7a9b49b9-ebf7-48a0-b9da-53692a67aeaa",
   "metadata": {},
   "source": [
    "## Create a mysql database"
   ]
  },
  {
   "cell_type": "code",
   "execution_count": 14,
   "id": "358aaffd-1113-42c5-8c50-912d80db5a56",
   "metadata": {},
   "outputs": [],
   "source": [
    "mydb=mysql.connector.connect(host='localhost', user='root', password='Chwe@2106', database='red_bus_details', use_pure=True)"
   ]
  },
  {
   "cell_type": "code",
   "execution_count": 15,
   "id": "0ed9e699-7694-4a1e-a1bf-78932d7c01f8",
   "metadata": {},
   "outputs": [],
   "source": [
    "mycursor=mydb.cursor()"
   ]
  },
  {
   "cell_type": "code",
   "execution_count": 16,
   "id": "db4ec120-a37f-4618-aa51-4ba02bde66d5",
   "metadata": {},
   "outputs": [],
   "source": [
    "mycursor.execute(\"CREATE DATABASE IF NOT EXISTS red_bus_details\")"
   ]
  },
  {
   "cell_type": "code",
   "execution_count": 18,
   "id": "2337b631-3059-48e1-b4ac-dc1821a65674",
   "metadata": {},
   "outputs": [
    {
     "name": "stdout",
     "output_type": "stream",
     "text": [
      "Table Created successfully\n"
     ]
    }
   ],
   "source": [
    "# Table Creation\n",
    "mycursor.execute('''CREATE TABLE IF NOT EXISTS bus_details(\n",
    "                  ID INT AUTO_INCREMENT PRIMARY KEY,\n",
    "                  Bus_name VARCHAR(255) NOT NULL,\n",
    "                  Bus_type VARCHAR(255) NOT NULL,\n",
    "                  Start_time VARCHAR(255) NOT NULL,\n",
    "                  End_time VARCHAR(255) NOT NULL,\n",
    "                  Total_duration VARCHAR(255) NOT NULL,\n",
    "                  Price FLOAT NULL,\n",
    "                  Seats_Available VARCHAR(255) NOT NULL,\n",
    "                  Ratings Float NULL,\n",
    "                  Route_link VARCHAR(255) NULL,\n",
    "                  Route_name VARCHAR(255) NULL\n",
    "                  )''')\n",
    "print(\"Table Created successfully\")"
   ]
  },
  {
   "cell_type": "code",
   "execution_count": 19,
   "id": "c50fe499-6b2a-4ada-a180-fab88afb86b6",
   "metadata": {},
   "outputs": [
    {
     "name": "stdout",
     "output_type": "stream",
     "text": [
      "Values inserted successfully\n"
     ]
    }
   ],
   "source": [
    "# SQL query to insert data into bus_details table\n",
    "insert_query = '''INSERT INTO bus_details(\n",
    "                    Bus_name,\n",
    "                    Bus_type,\n",
    "                    Start_time,\n",
    "                    End_time,\n",
    "                    Total_duration,\n",
    "                    Price,\n",
    "                    Seats_Available,\n",
    "                    Ratings,\n",
    "                    Route_link,\n",
    "                    Route_name)\n",
    "                  VALUES(%s, %s, %s, %s, %s, %s, %s, %s, %s, %s)'''\n",
    "data = Final_df.values.tolist()\n",
    "\n",
    "mycursor.executemany(insert_query, data)\n",
    "\n",
    "mydb.commit()\n",
    "\n",
    "print(\"Values inserted successfully\")"
   ]
  },
  {
   "cell_type": "code",
   "execution_count": null,
   "id": "141a21eb-5e3b-45ca-bde5-f71701fb11d2",
   "metadata": {},
   "outputs": [],
   "source": []
  }
 ],
 "metadata": {
  "kernelspec": {
   "display_name": ".venv",
   "language": "python",
   "name": "python3"
  },
  "language_info": {
   "codemirror_mode": {
    "name": "ipython",
    "version": 3
   },
   "file_extension": ".py",
   "mimetype": "text/x-python",
   "name": "python",
   "nbconvert_exporter": "python",
   "pygments_lexer": "ipython3",
   "version": "3.13.0"
  }
 },
 "nbformat": 4,
 "nbformat_minor": 5
}
